{
 "cells": [
  {
   "cell_type": "code",
   "execution_count": 1,
   "metadata": {},
   "outputs": [
    {
     "name": "stderr",
     "output_type": "stream",
     "text": [
      "c:\\Users\\julev\\anaconda3\\Lib\\site-packages\\pandas\\core\\arrays\\masked.py:60: UserWarning: Pandas requires version '1.3.6' or newer of 'bottleneck' (version '1.3.5' currently installed).\n",
      "  from pandas.core import (\n"
     ]
    }
   ],
   "source": [
    "## read in the data\n",
    "\n",
    "## CAN TRY TO GET A SECTION OF THE THING, THEN CALCULATE THE ERROR IN THAT AREA?\n",
    "\n",
    "import pandas as pd\n",
    "\n",
    "TLSPath='Terrestrial Laser Scan.txt'\n",
    "MLSPath='Mobile Laser Scan.txt'\n",
    "\n",
    "TLSpandas=pd.read_csv(TLSPath)\n",
    "MLSpandas=pd.read_csv(MLSPath)"
   ]
  },
  {
   "cell_type": "code",
   "execution_count": 4,
   "metadata": {},
   "outputs": [
    {
     "name": "stdout",
     "output_type": "stream",
     "text": [
      "TLS Number of Points 27530929.0\n",
      "MLS Number of Points 30663458.0\n",
      "               //X         Y          Z  Return Number  Number Of Returns  \\\n",
      "27530925 -2.752300  2.537759 -26.076136            1.0                1.0   \n",
      "27530926 -2.750552  2.539992 -26.076048            1.0                1.0   \n",
      "27530927 -2.748436  2.541896 -26.076122            1.0                1.0   \n",
      "27530928 -2.746473  2.544142 -26.076115            1.0                1.0   \n",
      "27530929 -2.744676  2.546486 -26.076023            1.0                1.0   \n",
      "\n",
      "              R      G      B  \n",
      "27530925  110.0  104.0   96.0  \n",
      "27530926  108.0  106.0  100.0  \n",
      "27530927  109.0  101.0   99.0  \n",
      "27530928  103.0  101.0   90.0  \n",
      "27530929  105.0  105.0   94.0  \n",
      "               //X         Y          Z  Intensity  Return Number  \\\n",
      "30663454  4.388771 -2.845072 -27.316887       66.0            0.0   \n",
      "30663455  4.354924 -1.803603 -26.575787       33.0            0.0   \n",
      "30663456  4.120812 -2.812401 -27.426441       18.0            0.0   \n",
      "30663457  4.044137 -2.913866 -27.540194       20.0            0.0   \n",
      "30663458  4.253304 -2.016615 -26.792391       92.0            0.0   \n",
      "\n",
      "              Gps Time  Ring  Range  C2C absolute distances  \\\n",
      "30663454  1.713431e+09  11.0  5.116                0.016952   \n",
      "30663455  1.713431e+09   4.0  4.610                0.018953   \n",
      "30663456  1.713431e+09  12.0  4.880                0.037009   \n",
      "30663457  1.713431e+09  13.0  4.890                0.023945   \n",
      "30663458  1.713431e+09   6.0  4.590                0.017944   \n",
      "\n",
      "          Approx. distances  Temp. approx. distances  \n",
      "30663454                0.0                 0.017036  \n",
      "30663455                0.0                 0.018868  \n",
      "30663456                0.0                 0.036890  \n",
      "30663457                0.0                 0.023858  \n",
      "30663458                0.0                 0.017176  \n"
     ]
    }
   ],
   "source": [
    "## get number of points for each scanner and remove first row as it only contains number of points\n",
    "TLSNumberOfPoints=TLSpandas['//X'].iloc[0]\n",
    "MLSNumberOfPoints=MLSpandas['//X'].iloc[0]\n",
    "print('TLS Number of Points',TLSNumberOfPoints)\n",
    "print('MLS Number of Points',MLSNumberOfPoints)\n",
    "\n",
    "droppedTLS=TLSpandas.drop(index=TLSpandas.index[0], axis=0, inplace=False)\n",
    "droppedMLS=MLSpandas.drop(index=MLSpandas.index[0], axis=0, inplace=False)\n",
    "print(droppedTLS.tail(5))\n",
    "print(droppedMLS.tail(5))"
   ]
  },
  {
   "cell_type": "code",
   "execution_count": 5,
   "metadata": {},
   "outputs": [
    {
     "name": "stdout",
     "output_type": "stream",
     "text": [
      "1           0.024001\n",
      "2           0.025208\n",
      "3           0.027129\n",
      "4           0.024817\n",
      "5           0.045173\n",
      "              ...   \n",
      "30663454    0.016952\n",
      "30663455    0.018953\n",
      "30663456    0.037009\n",
      "30663457    0.023945\n",
      "30663458    0.017944\n",
      "Name: C2C absolute distances, Length: 30663458, dtype: float64\n"
     ]
    }
   ],
   "source": [
    "print(droppedMLS['C2C absolute distances'])"
   ]
  }
 ],
 "metadata": {
  "kernelspec": {
   "display_name": "base",
   "language": "python",
   "name": "python3"
  },
  "language_info": {
   "codemirror_mode": {
    "name": "ipython",
    "version": 3
   },
   "file_extension": ".py",
   "mimetype": "text/x-python",
   "name": "python",
   "nbconvert_exporter": "python",
   "pygments_lexer": "ipython3",
   "version": "3.11.3"
  }
 },
 "nbformat": 4,
 "nbformat_minor": 2
}
